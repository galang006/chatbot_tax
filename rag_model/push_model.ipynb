{
 "cells": [
  {
   "cell_type": "code",
   "execution_count": 1,
   "id": "e4f417a2",
   "metadata": {},
   "outputs": [],
   "source": [
    "from huggingface_hub import HfApi, HfFolder, Repository, create_repo"
   ]
  },
  {
   "cell_type": "code",
   "execution_count": 2,
   "id": "d7d9a393",
   "metadata": {},
   "outputs": [
    {
     "name": "stderr",
     "output_type": "stream",
     "text": [
      "Note: Environment variable`HF_TOKEN` is set and is the current active token independently from the token you've just configured.\n"
     ]
    }
   ],
   "source": [
    "from huggingface_hub import login\n",
    "from dotenv import load_dotenv\n",
    "import os\n",
    "\n",
    "load_dotenv()\n",
    "\n",
    "login(token=os.getenv(\"HF_TOKEN\"))"
   ]
  },
  {
   "cell_type": "code",
   "execution_count": null,
   "id": "0ecc9260",
   "metadata": {},
   "outputs": [
    {
     "data": {
      "application/vnd.jupyter.widget-view+json": {
       "model_id": "8463b734421b4dfd961b657f956b449b",
       "version_major": 2,
       "version_minor": 0
      },
      "text/plain": [
       "Processing Files (0 / 0): |          |  0.00B /  0.00B            "
      ]
     },
     "metadata": {},
     "output_type": "display_data"
    },
    {
     "data": {
      "application/vnd.jupyter.widget-view+json": {
       "model_id": "87a421a2391f4de3ae081193b7a7ceaf",
       "version_major": 2,
       "version_minor": 0
      },
      "text/plain": [
       "New Data Upload: |          |  0.00B /  0.00B            "
      ]
     },
     "metadata": {},
     "output_type": "display_data"
    },
    {
     "data": {
      "text/plain": [
       "CommitInfo(commit_url='https://huggingface.co/galang006/all-indo-e5-small-v4-matryoshka-v2/commit/6844ba82ffd1b6874d37fdbfccee55d865487719', commit_message='Upload folder using huggingface_hub', commit_description='', oid='6844ba82ffd1b6874d37fdbfccee55d865487719', pr_url=None, repo_url=RepoUrl('https://huggingface.co/galang006/all-indo-e5-small-v4-matryoshka-v2', endpoint='https://huggingface.co', repo_type='model', repo_id='galang006/all-indo-e5-small-v4-matryoshka-v2'), pr_revision=None, pr_num=None)"
      ]
     },
     "execution_count": 4,
     "metadata": {},
     "output_type": "execute_result"
    }
   ],
   "source": [
    "repo_id = \"galang006/all-indo-e5-small-v4-matryoshka-v2\"  \n",
    "create_repo(repo_id, private=False, exist_ok=True) \n",
    "\n",
    "from huggingface_hub import upload_folder\n",
    "\n",
    "upload_folder(\n",
    "    folder_path=\"/home/ubuntu/projek_chatbot_galang/chatbot/model/all-indo-e5-small-v4-matryoshka-v2\",\n",
    "    repo_id=repo_id,\n",
    "    path_in_repo=\"\",  \n",
    ")"
   ]
  },
  {
   "cell_type": "code",
   "execution_count": 10,
   "id": "94f77a14",
   "metadata": {},
   "outputs": [
    {
     "data": {
      "application/vnd.jupyter.widget-view+json": {
       "model_id": "778e480280ee45569bc1c45fc4d11aa8",
       "version_major": 2,
       "version_minor": 0
      },
      "text/plain": [
       "Processing Files (0 / 0): |          |  0.00B /  0.00B            "
      ]
     },
     "metadata": {},
     "output_type": "display_data"
    },
    {
     "data": {
      "application/vnd.jupyter.widget-view+json": {
       "model_id": "61244198892648cca895bf27f4198142",
       "version_major": 2,
       "version_minor": 0
      },
      "text/plain": [
       "New Data Upload: |          |  0.00B /  0.00B            "
      ]
     },
     "metadata": {},
     "output_type": "display_data"
    },
    {
     "data": {
      "text/plain": [
       "CommitInfo(commit_url='https://huggingface.co/galang006/SeaLLMs-v3-1.5B-Chat-fine-tune-v8/commit/340078dbc8cfd68ae9194a0ee23ea4f3fd88e334', commit_message='Upload folder using huggingface_hub', commit_description='', oid='340078dbc8cfd68ae9194a0ee23ea4f3fd88e334', pr_url=None, repo_url=RepoUrl('https://huggingface.co/galang006/SeaLLMs-v3-1.5B-Chat-fine-tune-v8', endpoint='https://huggingface.co', repo_type='model', repo_id='galang006/SeaLLMs-v3-1.5B-Chat-fine-tune-v8'), pr_revision=None, pr_num=None)"
      ]
     },
     "execution_count": 10,
     "metadata": {},
     "output_type": "execute_result"
    }
   ],
   "source": [
    "repo_id = \"galang006/SeaLLMs-v3-1.5B-Chat-fine-tune-v8\"  \n",
    "create_repo(repo_id, private=False, exist_ok=True) \n",
    "\n",
    "from huggingface_hub import upload_folder\n",
    "\n",
    "upload_folder(\n",
    "    folder_path=\"/home/ubuntu/projek_chatbot_galang/training_model/model/merged-taxbot-SeaLLMs-v3-1.5B-Chat-v8\",\n",
    "    repo_id=repo_id,\n",
    "    path_in_repo=\"\",  \n",
    ")"
   ]
  },
  {
   "cell_type": "code",
   "execution_count": 9,
   "id": "11a4d853",
   "metadata": {},
   "outputs": [
    {
     "data": {
      "application/vnd.jupyter.widget-view+json": {
       "model_id": "403a264c3f8f4d14a4eb8ce7d7c04c07",
       "version_major": 2,
       "version_minor": 0
      },
      "text/plain": [
       "Processing Files (0 / 0): |          |  0.00B /  0.00B            "
      ]
     },
     "metadata": {},
     "output_type": "display_data"
    },
    {
     "data": {
      "application/vnd.jupyter.widget-view+json": {
       "model_id": "889fd1409e764abea42848e94e26e540",
       "version_major": 2,
       "version_minor": 0
      },
      "text/plain": [
       "New Data Upload: |          |  0.00B /  0.00B            "
      ]
     },
     "metadata": {},
     "output_type": "display_data"
    },
    {
     "data": {
      "text/plain": [
       "CommitInfo(commit_url='https://huggingface.co/galang006/SeaLLMs-v3-1.5B-Chat-fine-tune-v8/commit/1f47ffef1baea308e2528ca2c7b020984ae96c89', commit_message='Upload taxbot_v8.gguf with huggingface_hub', commit_description='', oid='1f47ffef1baea308e2528ca2c7b020984ae96c89', pr_url=None, repo_url=RepoUrl('https://huggingface.co/galang006/SeaLLMs-v3-1.5B-Chat-fine-tune-v8', endpoint='https://huggingface.co', repo_type='model', repo_id='galang006/SeaLLMs-v3-1.5B-Chat-fine-tune-v8'), pr_revision=None, pr_num=None)"
      ]
     },
     "execution_count": 9,
     "metadata": {},
     "output_type": "execute_result"
    }
   ],
   "source": [
    "repo_id = \"galang006/SeaLLMs-v3-1.5B-Chat-fine-tune-v8\"  \n",
    "create_repo(repo_id, private=False, exist_ok=True)  \n",
    "\n",
    "from huggingface_hub import upload_file\n",
    "\n",
    "upload_file(\n",
    "    path_or_fileobj=\"/home/ubuntu/projek_chatbot_galang/chatbot/model/taxbot_v8.gguf\",  \n",
    "    path_in_repo=\"taxbot_v8.gguf\",\n",
    "    repo_id=repo_id,\n",
    ")"
   ]
  }
 ],
 "metadata": {
  "kernelspec": {
   "display_name": "venv",
   "language": "python",
   "name": "python3"
  },
  "language_info": {
   "codemirror_mode": {
    "name": "ipython",
    "version": 3
   },
   "file_extension": ".py",
   "mimetype": "text/x-python",
   "name": "python",
   "nbconvert_exporter": "python",
   "pygments_lexer": "ipython3",
   "version": "3.10.12"
  }
 },
 "nbformat": 4,
 "nbformat_minor": 5
}
