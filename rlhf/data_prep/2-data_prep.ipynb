{
 "cells": [
  {
   "cell_type": "markdown",
   "id": "4f02bb24-6144-4dae-a53d-c6351b14a022",
   "metadata": {},
   "source": [
    "# Data preparation\n",
    "\n",
    "Code authored by: Shaw Talebi"
   ]
  },
  {
   "cell_type": "markdown",
   "id": "b34dfa71-6645-4a9e-896c-d11251bc63a5",
   "metadata": {},
   "source": [
    "### imports"
   ]
  },
  {
   "cell_type": "code",
   "execution_count": 1,
   "id": "d0a48304-41ee-443c-87f4-1dfa3b4682d5",
   "metadata": {},
   "outputs": [],
   "source": [
    "import pandas as pd\n",
    "import numpy as np\n",
    "from datasets import DatasetDict, Dataset"
   ]
  },
  {
   "cell_type": "markdown",
   "id": "951eabc4-7c20-439c-9c4f-f46163a46f92",
   "metadata": {},
   "source": [
    "### load data"
   ]
  },
  {
   "cell_type": "code",
   "execution_count": 2,
   "id": "ecf7cfef-f892-4ab3-b205-11b1be8a300b",
   "metadata": {},
   "outputs": [],
   "source": [
    "df = pd.read_json(\"dataset/paired_responses_v3.jsonl\", lines=True)"
   ]
  },
  {
   "cell_type": "code",
   "execution_count": 3,
   "id": "03e5e291-519c-4576-9ba8-f37f21090ef1",
   "metadata": {},
   "outputs": [
    {
     "data": {
      "text/html": [
       "<div>\n",
       "<style scoped>\n",
       "    .dataframe tbody tr th:only-of-type {\n",
       "        vertical-align: middle;\n",
       "    }\n",
       "\n",
       "    .dataframe tbody tr th {\n",
       "        vertical-align: top;\n",
       "    }\n",
       "\n",
       "    .dataframe thead th {\n",
       "        text-align: right;\n",
       "    }\n",
       "</style>\n",
       "<table border=\"1\" class=\"dataframe\">\n",
       "  <thead>\n",
       "    <tr style=\"text-align: right;\">\n",
       "      <th></th>\n",
       "      <th>pair_index</th>\n",
       "      <th>context</th>\n",
       "      <th>source</th>\n",
       "      <th>question</th>\n",
       "      <th>answer_a</th>\n",
       "      <th>answer_b</th>\n",
       "      <th>answer_b_preferred</th>\n",
       "    </tr>\n",
       "  </thead>\n",
       "  <tbody>\n",
       "    <tr>\n",
       "      <th>0</th>\n",
       "      <td>0</td>\n",
       "      <td>\\nKonteks 1:\\nUU PPh Konsolidasi setelah UU 6 ...</td>\n",
       "      <td>UU UU PPh Konsolidasi setelah UU 6 Tahun 2023 ...</td>\n",
       "      <td>Apakah keuntungan dari penjualan saham oleh pe...</td>\n",
       "      <td>Keuntungan dari penjualan saham oleh pemegang ...</td>\n",
       "      <td>Ya, keuntungan dari penjualan saham oleh pemeg...</td>\n",
       "      <td>1</td>\n",
       "    </tr>\n",
       "    <tr>\n",
       "      <th>1</th>\n",
       "      <td>1</td>\n",
       "      <td>\\nKonteks 1:\\nUU PPh Konsolidasi setelah UU 6 ...</td>\n",
       "      <td>UU UU PPh Konsolidasi setelah UU 6 Tahun 2023 ...</td>\n",
       "      <td>Apakah keuntungan dari penjualan saham oleh pe...</td>\n",
       "      <td>Keuntungan dari penjualan saham oleh pemegang ...</td>\n",
       "      <td>Berdasarkan Pasal 18 Ayat 3c UU 6 Tahun 2023, ...</td>\n",
       "      <td>1</td>\n",
       "    </tr>\n",
       "    <tr>\n",
       "      <th>2</th>\n",
       "      <td>2</td>\n",
       "      <td>\\nKonteks 1:\\nUU PPh Konsolidasi setelah UU 6 ...</td>\n",
       "      <td>UU UU PPh Konsolidasi setelah UU 6 Tahun 2023 ...</td>\n",
       "      <td>Apakah keuntungan dari penjualan saham oleh pe...</td>\n",
       "      <td>Keuntungan dari penjualan saham oleh pemegang ...</td>\n",
       "      <td>Berdasarkan Pasal 18 ayat 3c UU 6 Tahun 2023, ...</td>\n",
       "      <td>1</td>\n",
       "    </tr>\n",
       "    <tr>\n",
       "      <th>3</th>\n",
       "      <td>3</td>\n",
       "      <td>\\nKonteks 1:\\nUU PPh Konsolidasi setelah UU 6 ...</td>\n",
       "      <td>UU UU PPh Konsolidasi setelah UU 6 Tahun 2023 ...</td>\n",
       "      <td>Apakah keuntungan dari penjualan saham oleh pe...</td>\n",
       "      <td>Keuntungan dari penjualan saham oleh pemegang ...</td>\n",
       "      <td>Berdasarkan Pasal 18 ayat 3c UU 6 Tahun 2023, ...</td>\n",
       "      <td>1</td>\n",
       "    </tr>\n",
       "    <tr>\n",
       "      <th>4</th>\n",
       "      <td>4</td>\n",
       "      <td>\\nKonteks 1:\\nUU PPh Konsolidasi setelah UU 6 ...</td>\n",
       "      <td>UU UU PPh Konsolidasi setelah UU 6 Tahun 2023 ...</td>\n",
       "      <td>Apakah keuntungan dari penjualan saham oleh pe...</td>\n",
       "      <td>Ya, keuntungan dari penjualan saham oleh pemeg...</td>\n",
       "      <td>Berdasarkan Pasal 18 Ayat 3c UU 6 Tahun 2023, ...</td>\n",
       "      <td>1</td>\n",
       "    </tr>\n",
       "  </tbody>\n",
       "</table>\n",
       "</div>"
      ],
      "text/plain": [
       "   pair_index                                            context  \\\n",
       "0           0  \\nKonteks 1:\\nUU PPh Konsolidasi setelah UU 6 ...   \n",
       "1           1  \\nKonteks 1:\\nUU PPh Konsolidasi setelah UU 6 ...   \n",
       "2           2  \\nKonteks 1:\\nUU PPh Konsolidasi setelah UU 6 ...   \n",
       "3           3  \\nKonteks 1:\\nUU PPh Konsolidasi setelah UU 6 ...   \n",
       "4           4  \\nKonteks 1:\\nUU PPh Konsolidasi setelah UU 6 ...   \n",
       "\n",
       "                                              source  \\\n",
       "0  UU UU PPh Konsolidasi setelah UU 6 Tahun 2023 ...   \n",
       "1  UU UU PPh Konsolidasi setelah UU 6 Tahun 2023 ...   \n",
       "2  UU UU PPh Konsolidasi setelah UU 6 Tahun 2023 ...   \n",
       "3  UU UU PPh Konsolidasi setelah UU 6 Tahun 2023 ...   \n",
       "4  UU UU PPh Konsolidasi setelah UU 6 Tahun 2023 ...   \n",
       "\n",
       "                                            question  \\\n",
       "0  Apakah keuntungan dari penjualan saham oleh pe...   \n",
       "1  Apakah keuntungan dari penjualan saham oleh pe...   \n",
       "2  Apakah keuntungan dari penjualan saham oleh pe...   \n",
       "3  Apakah keuntungan dari penjualan saham oleh pe...   \n",
       "4  Apakah keuntungan dari penjualan saham oleh pe...   \n",
       "\n",
       "                                            answer_a  \\\n",
       "0  Keuntungan dari penjualan saham oleh pemegang ...   \n",
       "1  Keuntungan dari penjualan saham oleh pemegang ...   \n",
       "2  Keuntungan dari penjualan saham oleh pemegang ...   \n",
       "3  Keuntungan dari penjualan saham oleh pemegang ...   \n",
       "4  Ya, keuntungan dari penjualan saham oleh pemeg...   \n",
       "\n",
       "                                            answer_b  answer_b_preferred  \n",
       "0  Ya, keuntungan dari penjualan saham oleh pemeg...                   1  \n",
       "1  Berdasarkan Pasal 18 Ayat 3c UU 6 Tahun 2023, ...                   1  \n",
       "2  Berdasarkan Pasal 18 ayat 3c UU 6 Tahun 2023, ...                   1  \n",
       "3  Berdasarkan Pasal 18 ayat 3c UU 6 Tahun 2023, ...                   1  \n",
       "4  Berdasarkan Pasal 18 Ayat 3c UU 6 Tahun 2023, ...                   1  "
      ]
     },
     "execution_count": 3,
     "metadata": {},
     "output_type": "execute_result"
    }
   ],
   "source": [
    "df.head()"
   ]
  },
  {
   "cell_type": "markdown",
   "id": "52439bb9-ee13-4db7-8ed5-f389ca483528",
   "metadata": {},
   "source": [
    "### create prompt"
   ]
  },
  {
   "cell_type": "code",
   "execution_count": 4,
   "id": "0b2e3481-b15e-49cd-a020-954e1759348e",
   "metadata": {},
   "outputs": [],
   "source": [
    "def build_prompt(context, sumber, question):\n",
    "    \"\"\"\n",
    "    Membuat struktur chat dengan role 'system' dan 'user'.\n",
    "    System berisi konteks hukum + instruksi formal.\n",
    "    User berisi pertanyaan.\n",
    "    \"\"\"\n",
    "    SYSTEM_PROMPT = f\"\"\"\n",
    "    Jawab pertanyaan berdasarkan konteks berikut:\n",
    "    {context}\n",
    "\n",
    "    Kamu adalah asisten ahli pajak Indonesia.\n",
    "    Jawaban harus faktual, to the point, dan menggunakan bahasa formal.\n",
    "    Jika informasi tidak ada atau pertanyaan tidak berkaitan dengan pajak,\n",
    "    jawab: \"Maaf, saya tidak memiliki pemahaman tentang hal itu.\"\n",
    "\n",
    "    Sumber konteks: {sumber}\n",
    "\n",
    "    Bila jawaban ditemukan dengan jelas di konteks:\n",
    "    - Sertakan sumber pasal di akhir kalimat dengan cara yang natural,\n",
    "    misalnya: \"sesuai dengan Pasal ... UU Nomor ... Tahun ....\".\n",
    "    - Sertakan sumber hukum dengan format:\n",
    "    Source: Pasal {{pasal}} Ayat {{ayat}} UU {{uu}}.\n",
    "\n",
    "    Bila jawaban tidak ditemukan dengan jelas di konteks:\n",
    "    Gunakan FORMAT JAWABAN AKHIR berikut:\n",
    "\n",
    "    Sources Used:\n",
    "    [Daftar sumber UU yang digunakan (minimal 2)]\n",
    "\n",
    "    Summary:\n",
    "    [Rangkuman inti analisis]\n",
    "\n",
    "    PILIH SATU BAGIAN SAJA di bawah ini, lalu isi dengan teks yang relevan:\n",
    "\n",
    "    [[ Conclusion ]]\n",
    "    [Tulis kesimpulan, JIKA analisis berfokus pada ringkasan temuan\n",
    "    dan implikasi logis dari data yang ada.]\n",
    "\n",
    "    ATAU\n",
    "\n",
    "    [[ Recommendation ]]Apa yang tidak boleh dilakukan penggugat sehubungan dengan pelaksanaan penagihan pajak?\n",
    "    [Tulis rekomendasi, JIKA analisis berfokus pada usulan aksi,\n",
    "    kebijakan, atau langkah perbaikan di masa depan.]\n",
    "    \"\"\"\n",
    "\n",
    "    return [\n",
    "        {\"role\": \"system\", \"content\": SYSTEM_PROMPT},\n",
    "        {\"role\": \"user\", \"content\": question}\n",
    "    ]"
   ]
  },
  {
   "cell_type": "code",
   "execution_count": 5,
   "id": "48b56e0a-b997-4860-8f3c-2b6a8787f27d",
   "metadata": {},
   "outputs": [],
   "source": [
    "df[\"prompt\"] = df.apply(lambda x: build_prompt(x[\"context\"], x[\"source\"], x[\"question\"]), axis=1)"
   ]
  },
  {
   "cell_type": "markdown",
   "id": "766742dc-3a8a-4157-878c-da548e9eaa00",
   "metadata": {},
   "source": [
    "### create chosen and rejected responses"
   ]
  },
  {
   "cell_type": "code",
   "execution_count": 6,
   "id": "743e54dc-a2f9-4a57-8def-6bbcaef00680",
   "metadata": {},
   "outputs": [],
   "source": [
    "def answer_to_chat(answer):\n",
    "    return [{\"role\": \"assistant\", \"content\": answer.strip()}]"
   ]
  },
  {
   "cell_type": "code",
   "execution_count": 7,
   "id": "3742a9f6",
   "metadata": {},
   "outputs": [],
   "source": [
    "df[\"answer_a\"] = df[\"answer_a\"].apply(answer_to_chat)\n",
    "df[\"answer_b\"] = df[\"answer_b\"].apply(answer_to_chat)"
   ]
  },
  {
   "cell_type": "code",
   "execution_count": 8,
   "id": "5930b373-841e-4148-b0f2-5c211d44874d",
   "metadata": {},
   "outputs": [],
   "source": [
    "df[\"chosen\"] = np.where(df[\"answer_b_preferred\"] == 1, df[\"answer_b\"], df[\"answer_a\"])\n",
    "df[\"rejected\"] = np.where(df[\"answer_b_preferred\"] == 1, df[\"answer_a\"], df[\"answer_b\"])"
   ]
  },
  {
   "cell_type": "code",
   "execution_count": 9,
   "id": "fae751d0",
   "metadata": {},
   "outputs": [],
   "source": [
    "df_prep = df[[\"prompt\", \"chosen\", \"rejected\"]]"
   ]
  },
  {
   "cell_type": "code",
   "execution_count": 10,
   "id": "5b9f3e20-1248-4c63-914a-8d1e1d26751c",
   "metadata": {},
   "outputs": [
    {
     "data": {
      "text/html": [
       "<div>\n",
       "<style scoped>\n",
       "    .dataframe tbody tr th:only-of-type {\n",
       "        vertical-align: middle;\n",
       "    }\n",
       "\n",
       "    .dataframe tbody tr th {\n",
       "        vertical-align: top;\n",
       "    }\n",
       "\n",
       "    .dataframe thead th {\n",
       "        text-align: right;\n",
       "    }\n",
       "</style>\n",
       "<table border=\"1\" class=\"dataframe\">\n",
       "  <thead>\n",
       "    <tr style=\"text-align: right;\">\n",
       "      <th></th>\n",
       "      <th>prompt</th>\n",
       "      <th>chosen</th>\n",
       "      <th>rejected</th>\n",
       "    </tr>\n",
       "  </thead>\n",
       "  <tbody>\n",
       "    <tr>\n",
       "      <th>0</th>\n",
       "      <td>[{'role': 'system', 'content': '\n",
       "    Jawab per...</td>\n",
       "      <td>[{'role': 'assistant', 'content': 'Ya, keuntun...</td>\n",
       "      <td>[{'role': 'assistant', 'content': 'Keuntungan ...</td>\n",
       "    </tr>\n",
       "    <tr>\n",
       "      <th>1</th>\n",
       "      <td>[{'role': 'system', 'content': '\n",
       "    Jawab per...</td>\n",
       "      <td>[{'role': 'assistant', 'content': 'Berdasarkan...</td>\n",
       "      <td>[{'role': 'assistant', 'content': 'Keuntungan ...</td>\n",
       "    </tr>\n",
       "    <tr>\n",
       "      <th>2</th>\n",
       "      <td>[{'role': 'system', 'content': '\n",
       "    Jawab per...</td>\n",
       "      <td>[{'role': 'assistant', 'content': 'Berdasarkan...</td>\n",
       "      <td>[{'role': 'assistant', 'content': 'Keuntungan ...</td>\n",
       "    </tr>\n",
       "    <tr>\n",
       "      <th>3</th>\n",
       "      <td>[{'role': 'system', 'content': '\n",
       "    Jawab per...</td>\n",
       "      <td>[{'role': 'assistant', 'content': 'Berdasarkan...</td>\n",
       "      <td>[{'role': 'assistant', 'content': 'Keuntungan ...</td>\n",
       "    </tr>\n",
       "    <tr>\n",
       "      <th>4</th>\n",
       "      <td>[{'role': 'system', 'content': '\n",
       "    Jawab per...</td>\n",
       "      <td>[{'role': 'assistant', 'content': 'Berdasarkan...</td>\n",
       "      <td>[{'role': 'assistant', 'content': 'Ya, keuntun...</td>\n",
       "    </tr>\n",
       "  </tbody>\n",
       "</table>\n",
       "</div>"
      ],
      "text/plain": [
       "                                              prompt  \\\n",
       "0  [{'role': 'system', 'content': '\n",
       "    Jawab per...   \n",
       "1  [{'role': 'system', 'content': '\n",
       "    Jawab per...   \n",
       "2  [{'role': 'system', 'content': '\n",
       "    Jawab per...   \n",
       "3  [{'role': 'system', 'content': '\n",
       "    Jawab per...   \n",
       "4  [{'role': 'system', 'content': '\n",
       "    Jawab per...   \n",
       "\n",
       "                                              chosen  \\\n",
       "0  [{'role': 'assistant', 'content': 'Ya, keuntun...   \n",
       "1  [{'role': 'assistant', 'content': 'Berdasarkan...   \n",
       "2  [{'role': 'assistant', 'content': 'Berdasarkan...   \n",
       "3  [{'role': 'assistant', 'content': 'Berdasarkan...   \n",
       "4  [{'role': 'assistant', 'content': 'Berdasarkan...   \n",
       "\n",
       "                                            rejected  \n",
       "0  [{'role': 'assistant', 'content': 'Keuntungan ...  \n",
       "1  [{'role': 'assistant', 'content': 'Keuntungan ...  \n",
       "2  [{'role': 'assistant', 'content': 'Keuntungan ...  \n",
       "3  [{'role': 'assistant', 'content': 'Keuntungan ...  \n",
       "4  [{'role': 'assistant', 'content': 'Ya, keuntun...  "
      ]
     },
     "execution_count": 10,
     "metadata": {},
     "output_type": "execute_result"
    }
   ],
   "source": [
    "df_prep.iloc[:,-3:].head()"
   ]
  },
  {
   "cell_type": "code",
   "execution_count": 20,
   "id": "f53c2bb3-1d94-4bac-b219-ba3aed82e870",
   "metadata": {},
   "outputs": [],
   "source": [
    "# write data to file\n",
    "df_prep.to_csv('dataset/preferences.csv')"
   ]
  },
  {
   "cell_type": "markdown",
   "id": "9800a41a-5f4a-469d-b554-341dcbdf8c7b",
   "metadata": {},
   "source": [
    "### Shuffle & split"
   ]
  },
  {
   "cell_type": "code",
   "execution_count": 11,
   "id": "6cd008ea-4479-479b-a7c9-4880de9e8c92",
   "metadata": {},
   "outputs": [],
   "source": [
    "df_shuffled = df_prep.sample(frac=1, random_state=42).reset_index(drop=True)\n",
    "\n",
    "train_size = int(0.9 * len(df_shuffled))\n",
    "df_train = df_shuffled.iloc[:train_size]\n",
    "df_valid = df_shuffled.iloc[train_size:]"
   ]
  },
  {
   "cell_type": "code",
   "execution_count": 12,
   "id": "1afaaa82-3099-468f-bc68-62346c0108cc",
   "metadata": {},
   "outputs": [],
   "source": [
    "# Convert the pandas DataFrames back to Hugging Face Datasets\n",
    "train_ds = Dataset.from_pandas(df_train)\n",
    "valid_ds = Dataset.from_pandas(df_valid)\n",
    "\n",
    "dataset_dict = DatasetDict({\n",
    "    \"train\": train_ds,\n",
    "    \"valid\": valid_ds\n",
    "})"
   ]
  },
  {
   "cell_type": "code",
   "execution_count": 13,
   "id": "e637c975",
   "metadata": {},
   "outputs": [
    {
     "data": {
      "application/vnd.jupyter.widget-view+json": {
       "model_id": "ed4e83aecc9e4a75b25d36607ba67a52",
       "version_major": 2,
       "version_minor": 0
      },
      "text/plain": [
       "Saving the dataset (0/1 shards):   0%|          | 0/450 [00:00<?, ? examples/s]"
      ]
     },
     "metadata": {},
     "output_type": "display_data"
    },
    {
     "data": {
      "application/vnd.jupyter.widget-view+json": {
       "model_id": "8faad7dded9c49529263089df3190e2c",
       "version_major": 2,
       "version_minor": 0
      },
      "text/plain": [
       "Saving the dataset (0/1 shards):   0%|          | 0/50 [00:00<?, ? examples/s]"
      ]
     },
     "metadata": {},
     "output_type": "display_data"
    },
    {
     "name": "stdout",
     "output_type": "stream",
     "text": [
      "✅ DatasetDict saved to data/preferences_chatbot_hf/\n"
     ]
    }
   ],
   "source": [
    "dataset_dict.save_to_disk(\"dataset/preferences_chatbot_hf_v2\")\n",
    "print(\"✅ DatasetDict saved to data/preferences_chatbot_hf/\")"
   ]
  },
  {
   "cell_type": "code",
   "execution_count": null,
   "id": "704770d1-1ce4-4d67-8657-57ae6c2f5b70",
   "metadata": {},
   "outputs": [
    {
     "name": "stdout",
     "output_type": "stream",
     "text": [
      "✅ Data preference saved to data/preferences_chatbot.jsonl\n"
     ]
    },
    {
     "data": {
      "application/vnd.jupyter.widget-view+json": {
       "model_id": "760ec7cd4473492b8ddee1ce75b9761b",
       "version_major": 2,
       "version_minor": 0
      },
      "text/plain": [
       "Saving the dataset (0/1 shards):   0%|          | 0/450 [00:00<?, ? examples/s]"
      ]
     },
     "metadata": {},
     "output_type": "display_data"
    },
    {
     "data": {
      "application/vnd.jupyter.widget-view+json": {
       "model_id": "0f4e5b61e0014a6098952c4496ae2012",
       "version_major": 2,
       "version_minor": 0
      },
      "text/plain": [
       "Saving the dataset (0/1 shards):   0%|          | 0/50 [00:00<?, ? examples/s]"
      ]
     },
     "metadata": {},
     "output_type": "display_data"
    },
    {
     "name": "stdout",
     "output_type": "stream",
     "text": [
      "✅ DatasetDict saved to data/preferences_chatbot_hf/\n"
     ]
    }
   ],
   "source": [
    "df_prep.to_json(\"dataset/preferences_chatbot.jsonl\", orient=\"records\", lines=True, force_ascii=False)\n",
    "print(\"✅ Data preference saved to data/preferences_chatbot.jsonl\")"
   ]
  },
  {
   "cell_type": "code",
   "execution_count": null,
   "id": "9ceac047",
   "metadata": {},
   "outputs": [
    {
     "data": {
      "text/plain": [
       "DatasetDict({\n",
       "    train: Dataset({\n",
       "        features: ['prompt', 'chosen', 'rejected'],\n",
       "        num_rows: 450\n",
       "    })\n",
       "    valid: Dataset({\n",
       "        features: ['prompt', 'chosen', 'rejected'],\n",
       "        num_rows: 50\n",
       "    })\n",
       "})"
      ]
     },
     "execution_count": 26,
     "metadata": {},
     "output_type": "execute_result"
    }
   ],
   "source": [
    "dataset_dict.save_to_disk"
   ]
  }
 ],
 "metadata": {
  "kernelspec": {
   "display_name": "venv",
   "language": "python",
   "name": "python3"
  },
  "language_info": {
   "codemirror_mode": {
    "name": "ipython",
    "version": 3
   },
   "file_extension": ".py",
   "mimetype": "text/x-python",
   "name": "python",
   "nbconvert_exporter": "python",
   "pygments_lexer": "ipython3",
   "version": "3.10.12"
  }
 },
 "nbformat": 4,
 "nbformat_minor": 5
}
