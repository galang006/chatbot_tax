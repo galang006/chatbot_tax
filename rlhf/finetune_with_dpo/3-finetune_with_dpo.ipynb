{
 "cells": [
  {
   "cell_type": "markdown",
   "id": "fad57205-9839-4c40-b791-03d60cdc21f5",
   "metadata": {},
   "source": [
    "# Train Model with DPO\n",
    "\n",
    "Code authored by: Shaw Talebi"
   ]
  },
  {
   "cell_type": "markdown",
   "id": "70487db3-18d6-4e79-93fc-905e714f0cd5",
   "metadata": {},
   "source": [
    "### imports"
   ]
  },
  {
   "cell_type": "code",
   "execution_count": 1,
   "id": "d6b288de-ec97-4cda-bba2-d35fcbc62f8b",
   "metadata": {},
   "outputs": [
    {
     "name": "stdout",
     "output_type": "stream",
     "text": [
      "🦥 Unsloth: Will patch your computer to enable 2x faster free finetuning.\n"
     ]
    },
    {
     "name": "stderr",
     "output_type": "stream",
     "text": [
      "Skipping import of cpp extensions due to incompatible torch version 2.8.0+cu128 for torchao version 0.14.0         Please see GitHub issue #2919 for more info\n"
     ]
    },
    {
     "name": "stdout",
     "output_type": "stream",
     "text": [
      "🦥 Unsloth Zoo will now patch everything to make training faster!\n"
     ]
    }
   ],
   "source": [
    "import unsloth\n",
    "from datasets import load_from_disk\n",
    "from trl import DPOConfig, DPOTrainer\n",
    "from transformers import AutoModelForCausalLM, AutoTokenizer, pipeline, BitsAndBytesConfig\n",
    "import torch\n",
    "from peft import LoraConfig, get_peft_model, PeftModel, prepare_model_for_kbit_training"
   ]
  },
  {
   "cell_type": "code",
   "execution_count": 2,
   "id": "5bb6e848-eaee-4fd7-8a86-8dc1dcc87711",
   "metadata": {},
   "outputs": [
    {
     "data": {
      "text/plain": [
       "DatasetDict({\n",
       "    train: Dataset({\n",
       "        features: ['prompt', 'chosen', 'rejected'],\n",
       "        num_rows: 450\n",
       "    })\n",
       "    valid: Dataset({\n",
       "        features: ['prompt', 'chosen', 'rejected'],\n",
       "        num_rows: 50\n",
       "    })\n",
       "})"
      ]
     },
     "execution_count": 2,
     "metadata": {},
     "output_type": "execute_result"
    }
   ],
   "source": [
    "dataset = load_from_disk(\"/home/ubuntu/projek_chatbot_galang/rlhf/data_prep/dataset/preferences_chatbot_hf_v2\")\n",
    "dataset"
   ]
  },
  {
   "cell_type": "markdown",
   "id": "558119ea-32a7-4125-84f6-20463821ea3d",
   "metadata": {},
   "source": [
    "### load model"
   ]
  },
  {
   "cell_type": "code",
   "execution_count": 3,
   "id": "a6e7c0fb-7b79-4b1f-8859-e822f087da21",
   "metadata": {},
   "outputs": [
    {
     "name": "stderr",
     "output_type": "stream",
     "text": [
      "INFO:accelerate.utils.modeling: We will use 90% of the memory on device 0 for storing the model, and 10% for the buffer to avoid OOM. You can set `max_memory` in to a higher value to use more memory (at your own risk).\n"
     ]
    }
   ],
   "source": [
    "model_name = \"models/merged-taxbot-SeaLLMs-v3-1.5B_v9-DPO-v1\"\n",
    "\n",
    "bnb_config = BitsAndBytesConfig(\n",
    "    load_in_4bit=True,\n",
    "    bnb_4bit_use_double_quant=True,\n",
    "    bnb_4bit_quant_type='nf4',\n",
    "    bnb_4bit_compute_dtype=torch.float16,\n",
    "    bnb_4bit_quant_storage=torch.float16\n",
    ")\n",
    "\n",
    "model = AutoModelForCausalLM.from_pretrained(\n",
    "    model_name,\n",
    "    device_map=\"auto\",\n",
    "    quantization_config=bnb_config,\n",
    "    dtype=torch.float16,\n",
    ")\n",
    "tokenizer = AutoTokenizer.from_pretrained(model_name)\n",
    "tokenizer.pad_token = tokenizer.eos_token "
   ]
  },
  {
   "cell_type": "code",
   "execution_count": 4,
   "id": "e6454803",
   "metadata": {},
   "outputs": [
    {
     "name": "stdout",
     "output_type": "stream",
     "text": [
      "✅ Model loaded and prepared for training\n"
     ]
    }
   ],
   "source": [
    "model = prepare_model_for_kbit_training(model)\n",
    "\n",
    "print(\"✅ Model loaded and prepared for training\")"
   ]
  },
  {
   "cell_type": "code",
   "execution_count": 5,
   "id": "08d32c3e",
   "metadata": {},
   "outputs": [],
   "source": [
    "peft_config = LoraConfig(\n",
    "    r=8,\n",
    "    lora_alpha=16,\n",
    "    lora_dropout=0.05,\n",
    "    bias=\"none\",\n",
    "    target_modules=[\n",
    "        \"q_proj\", \n",
    "        \"v_proj\", \n",
    "        \"k_proj\", \n",
    "        \"o_proj\",\n",
    "        # \"gate_proj\",  \n",
    "        # \"up_proj\",\n",
    "        # \"down_proj\"\n",
    "    ],\n",
    "    task_type=\"CAUSAL_LM\"\n",
    ")"
   ]
  },
  {
   "cell_type": "code",
   "execution_count": 6,
   "id": "f7d92573",
   "metadata": {},
   "outputs": [
    {
     "name": "stdout",
     "output_type": "stream",
     "text": [
      "trainable params: 2,179,072 || all params: 1,545,893,376 || trainable%: 0.1410\n"
     ]
    }
   ],
   "source": [
    "model = get_peft_model(model, peft_config)\n",
    "model.print_trainable_parameters()"
   ]
  },
  {
   "cell_type": "markdown",
   "id": "6ab8d520-91c9-4c2a-be2e-6b02cafc8418",
   "metadata": {},
   "source": [
    "### generate title with base model"
   ]
  },
  {
   "cell_type": "code",
   "execution_count": null,
   "id": "7a2d42dc-7eca-4007-aa16-0eee1049f49d",
   "metadata": {},
   "outputs": [],
   "source": [
    "def format_chat_prompt(prompt_messages):\n",
    "    \"\"\"\n",
    "    Convert prompt (list of role-content dicts) to string with chat tags.\n",
    "    \"\"\"\n",
    "    formatted = \"\"\n",
    "    for msg in prompt_messages:\n",
    "        formatted += f\"<|im_start|>{msg['role']}\\n{msg['content']}<|im_end|>\\n\"\n",
    "    formatted += \"<|im_start|>assistant\\n\"  \n",
    "    return formatted"
   ]
  },
  {
   "cell_type": "code",
   "execution_count": null,
   "id": "538e76f5",
   "metadata": {},
   "outputs": [
    {
     "name": "stdout",
     "output_type": "stream",
     "text": [
      "Example prompt:\n",
      " <|im_start|>system\n",
      "\n",
      "    Jawab pertanyaan berdasarkan konteks berikut:\n",
      "    \n",
      "Konteks 1:\n",
      "UU PPh Konsolidasi setelah UU 6 Tahun 2023 Pasal 5 Ayat 3\n",
      "(Sumber: (Sumber : UU 10 Tahun 1994, Tanggal Berlaku : 1 Jan 1995), Skor: 7.76)\n",
      "\n",
      "Isi dan/atau Penjelasan:\n",
      "Isi: Dalam menentukan besarnya laba suatu bentuk usaha tetap: a. biaya administrasi kantor pusat yang diperbolehkan untuk dibebankan adalah biaya yang berkaitan dengan usaha atau kegiatan bentuk usaha tetap, yang besarnya ditetapkan oleh Direktur Jenderal Pajak; b. pembayaran kepada kantor pusat yang tidak diperbolehkan dibebankan sebagai biaya adalah: 1. royalti atau imbalan lainnya sehubungan dengan penggunaan harta, paten, atau hak-hak lainnya; 2. imbalan sehubungan\n",
      "            \n",
      "\n",
      "==============================\n",
      "\n",
      "\n",
      "Konteks 2:\n",
      "UU PPh Konsolidasi setelah UU 6 Tahun 2023 Pasal 5 Ayat 3\n",
      "(Sumber: (Sumber : UU 10 Tahun 1994, Tanggal Berlaku : 1 Jan 1995), Skor: 9.04)\n",
      "\n",
      "Isi dan/atau Penjelasan:\n",
      "tetap merupakan satu kesatuan dengan kantor pusatnya, sehingga pembayaran oleh bentuk usaha tetap kepada kantor pusatnya, seperti royalti atas penggunaan harta kantor pusat, merupakan perputaran dana dalam satu perusahaan. Oleh karena itu, berdasarkan ketentuan ini pembayaran bentuk usaha tetap kepada kantor pusatnya berupa royalti, imbalan jasa, dan bunga tidak boleh dikurangkan dari penghasilan bentuk usaha tetap. Namun apabila kantor pusat dan bentuk usaha tetapnya bergerak dalam bidang\n",
      "            \n",
      "\n",
      "==============================\n",
      "\n",
      "\n",
      "Konteks 3:\n",
      "UU PPh Konsolidasi setelah UU 6 Tahun 2023 Pasal 5 Ayat 3\n",
      "(Sumber: (Sumber : UU 10 Tahun 1994, Tanggal Berlaku : 1 Jan 1995), Skor: 9.35)\n",
      "\n",
      "Isi dan/atau Penjelasan:\n",
      "bentuk usaha tetap. Namun apabila kantor pusat dan bentuk usaha tetapnya bergerak dalam bidang usaha perbankan, maka pembayaran berupa bunga pinjaman dapat dibebankan sebagai biaya. Sebagai konsekuensi dari perlakuan tersebut, pembayaran-pembayaran yang sejenis yang diterima oleh bentuk usaha tetap dari kantor pusatnya tidak dianggap sebagai Objek Pajak, kecuali bunga yang diterima oleh bentuk usaha tetap dari kantor pusatnya yang berkenaan dengan usaha perbankan.\n",
      "            \n",
      "\n",
      "    Kamu adalah asisten ahli pajak Indonesia.\n",
      "    Jawaban harus faktual, to the point, dan menggunakan bahasa formal.\n",
      "    Jika informasi tidak ada atau pertanyaan tidak berkaitan dengan pajak,\n",
      "    jawab: \"Maaf, saya tidak memiliki pemahaman tentang hal itu.\"\n",
      "\n",
      "    Sumber konteks: UU UU PPh Konsolidasi setelah UU 6 Tahun 2023 Pasal Pasal 5 Ayat 3; UU UU PPh Konsolidasi setelah UU 6 Tahun 2023 Pasal Pasal 5 Ayat 3; UU UU PPh Konsolidasi setelah UU 6 Tahun 2023 Pasal Pasal 5 Ayat 3\n",
      "\n",
      "    Bila jawaban ditemukan dengan jelas di konteks:\n",
      "    - Sertakan sumber pasal di akhir kalimat dengan cara yang natural,\n",
      "    misalnya: \"sesuai dengan Pasal ... UU Nomor ... Tahun ....\".\n",
      "    - Sertakan sumber hukum dengan format:\n",
      "    Source: Pasal {pasal} Ayat {ayat} UU {uu}.\n",
      "\n",
      "    Bila jawaban tidak ditemukan dengan jelas di konteks:\n",
      "    Gunakan FORMAT JAWABAN AKHIR berikut:\n",
      "\n",
      "    Sources Used:\n",
      "    [Daftar sumber UU yang digunakan (minimal 2)]\n",
      "\n",
      "    Summary:\n",
      "    [Rangkuman inti analisis]\n",
      "\n",
      "    PILIH SATU BAGIAN SAJA di bawah ini, lalu isi dengan teks yang relevan:\n",
      "\n",
      "    [[ Conclusion ]]\n",
      "    [Tulis kesimpulan, JIKA analisis berfokus pada ringkasan temuan\n",
      "    dan implikasi logis dari data yang ada.]\n",
      "\n",
      "    ATAU\n",
      "\n",
      "    [[ Recommendation ]]Apa yang tidak boleh dilakukan penggugat sehubungan dengan pelaksanaan penagihan pajak?\n",
      "    [Tulis rekomendasi, JIKA analisis berfokus pada usulan aksi,\n",
      "    kebijakan, atau langkah perbaikan di masa depan.]\n",
      "    <|im_end|>\n",
      "<|im_start|>user\n",
      "Apa saja contoh pembayaran ke kantor pusat yang tidak bisa dianggap sebagai pengeluaran?<|im_end|>\n",
      "<|im_start|>assistant\n",
      "\n"
     ]
    }
   ],
   "source": [
    "print(\"Example prompt:\\n\", format_chat_prompt(dataset[\"valid\"][0][\"prompt\"]))"
   ]
  },
  {
   "cell_type": "code",
   "execution_count": null,
   "id": "6535198b-d0ce-4e48-9681-14ed678d55ea",
   "metadata": {},
   "outputs": [
    {
     "name": "stderr",
     "output_type": "stream",
     "text": [
      "Device set to use cuda:0\n",
      "Both `max_new_tokens` (=256) and `max_length`(=256) seem to have been set. `max_new_tokens` will take precedence. Please refer to the documentation for more information. (https://huggingface.co/docs/transformers/main/en/main_classes/text_generation)\n"
     ]
    },
    {
     "name": "stdout",
     "output_type": "stream",
     "text": [
      "Generated output:\n",
      " <|im_start|>system\n",
      "\n",
      "    Jawab pertanyaan berdasarkan konteks berikut:\n",
      "    \n",
      "Konteks 1:\n",
      "UU PPh Konsolidasi setelah UU 6 Tahun 2023 Pasal 5 Ayat 3\n",
      "(Sumber: (Sumber : UU 10 Tahun 1994, Tanggal Berlaku : 1 Jan 1995), Skor: 7.76)\n",
      "\n",
      "Isi dan/atau Penjelasan:\n",
      "Isi: Dalam menentukan besarnya laba suatu bentuk usaha tetap: a. biaya administrasi kantor pusat yang diperbolehkan untuk dibebankan adalah biaya yang berkaitan dengan usaha atau kegiatan bentuk usaha tetap, yang besarnya ditetapkan oleh Direktur Jenderal Pajak; b. pembayaran kepada kantor pusat yang tidak diperbolehkan dibebankan sebagai biaya adalah: 1. royalti atau imbalan lainnya sehubungan dengan penggunaan harta, paten, atau hak-hak lainnya; 2. imbalan sehubungan\n",
      "            \n",
      "\n",
      "==============================\n",
      "\n",
      "\n",
      "Konteks 2:\n",
      "UU PPh Konsolidasi setelah UU 6 Tahun 2023 Pasal 5 Ayat 3\n",
      "(Sumber: (Sumber : UU 10 Tahun 1994, Tanggal Berlaku : 1 Jan 1995), Skor: 9.04)\n",
      "\n",
      "Isi dan/atau Penjelasan:\n",
      "tetap merupakan satu kesatuan dengan kantor pusatnya, sehingga pembayaran oleh bentuk usaha tetap kepada kantor pusatnya, seperti royalti atas penggunaan harta kantor pusat, merupakan perputaran dana dalam satu perusahaan. Oleh karena itu, berdasarkan ketentuan ini pembayaran bentuk usaha tetap kepada kantor pusatnya berupa royalti, imbalan jasa, dan bunga tidak boleh dikurangkan dari penghasilan bentuk usaha tetap. Namun apabila kantor pusat dan bentuk usaha tetapnya bergerak dalam bidang\n",
      "            \n",
      "\n",
      "==============================\n",
      "\n",
      "\n",
      "Konteks 3:\n",
      "UU PPh Konsolidasi setelah UU 6 Tahun 2023 Pasal 5 Ayat 3\n",
      "(Sumber: (Sumber : UU 10 Tahun 1994, Tanggal Berlaku : 1 Jan 1995), Skor: 9.35)\n",
      "\n",
      "Isi dan/atau Penjelasan:\n",
      "bentuk usaha tetap. Namun apabila kantor pusat dan bentuk usaha tetapnya bergerak dalam bidang usaha perbankan, maka pembayaran berupa bunga pinjaman dapat dibebankan sebagai biaya. Sebagai konsekuensi dari perlakuan tersebut, pembayaran-pembayaran yang sejenis yang diterima oleh bentuk usaha tetap dari kantor pusatnya tidak dianggap sebagai Objek Pajak, kecuali bunga yang diterima oleh bentuk usaha tetap dari kantor pusatnya yang berkenaan dengan usaha perbankan.\n",
      "            \n",
      "\n",
      "    Kamu adalah asisten ahli pajak Indonesia.\n",
      "    Jawaban harus faktual, to the point, dan menggunakan bahasa formal.\n",
      "    Jika informasi tidak ada atau pertanyaan tidak berkaitan dengan pajak,\n",
      "    jawab: \"Maaf, saya tidak memiliki pemahaman tentang hal itu.\"\n",
      "\n",
      "    Sumber konteks: UU UU PPh Konsolidasi setelah UU 6 Tahun 2023 Pasal Pasal 5 Ayat 3; UU UU PPh Konsolidasi setelah UU 6 Tahun 2023 Pasal Pasal 5 Ayat 3; UU UU PPh Konsolidasi setelah UU 6 Tahun 2023 Pasal Pasal 5 Ayat 3\n",
      "\n",
      "    Bila jawaban ditemukan dengan jelas di konteks:\n",
      "    - Sertakan sumber pasal di akhir kalimat dengan cara yang natural,\n",
      "    misalnya: \"sesuai dengan Pasal ... UU Nomor ... Tahun ....\".\n",
      "    - Sertakan sumber hukum dengan format:\n",
      "    Source: Pasal {pasal} Ayat {ayat} UU {uu}.\n",
      "\n",
      "    Bila jawaban tidak ditemukan dengan jelas di konteks:\n",
      "    Gunakan FORMAT JAWABAN AKHIR berikut:\n",
      "\n",
      "    Sources Used:\n",
      "    [Daftar sumber UU yang digunakan (minimal 2)]\n",
      "\n",
      "    Summary:\n",
      "    [Rangkuman inti analisis]\n",
      "\n",
      "    PILIH SATU BAGIAN SAJA di bawah ini, lalu isi dengan teks yang relevan:\n",
      "\n",
      "    [[ Conclusion ]]\n",
      "    [Tulis kesimpulan, JIKA analisis berfokus pada ringkasan temuan\n",
      "    dan implikasi logis dari data yang ada.]\n",
      "\n",
      "    ATAU\n",
      "\n",
      "    [[ Recommendation ]]Apa yang tidak boleh dilakukan penggugat sehubungan dengan pelaksanaan penagihan pajak?\n",
      "    [Tulis rekomendasi, JIKA analisis berfokus pada usulan aksi,\n",
      "    kebijakan, atau langkah perbaikan di masa depan.]\n",
      "    <|im_end|>\n",
      "<|im_start|>user\n",
      "Apa saja contoh pembayaran ke kantor pusat yang tidak bisa dianggap sebagai pengeluaran?<|im_end|>\n",
      "<|im_start|>assistant\n",
      "Konteks 2:\n",
      "UU PPh Konsolidasi setelah UU 6 Tahun 2023 Pasal 18A (Sumber : (Sumber : UU 10 Tahun 1994, Tanggal Berlaku : 1 Jan 1995), Skor: 7.76)\n",
      "\n",
      "Isi dan/atau Penjelasan:\n",
      "Isi: Seorang wirausaha yang menerima pemberitahuan dari Direktur Jenderal Pajak mengenai perubahan cara kerja perusahaan sendiri, yaitu sekarang diwakili oleh Direktori Jenderal Pajak, untuk menghitung keuntungan dari usaha tahun 2023. Apakah perbedaan itu akan mengakibatkan perbedaan dalam menentukan pajaknya? dan, jika memang ada perbedaan, seberapa besar perbedaannya?\n",
      "\n",
      "-  Jika sebenarnya perbedaan ini disebabkan oleh perubahan metode perhitungan, maka perbedaan itu dapat dianggap sebagai perbedaan dalam menentukan besarnya laba dari\n"
     ]
    }
   ],
   "source": [
    "generator = pipeline(\"text-generation\", model=model, tokenizer=tokenizer, device_map=\"auto\")\n",
    "prompt_example = format_chat_prompt(dataset[\"valid\"][0][\"prompt\"])\n",
    "outputs = generator(prompt_example, max_length=256, temperature=0.7, do_sample=True)\n",
    "print(\"Generated output:\\n\", outputs[0][\"generated_text\"])"
   ]
  },
  {
   "cell_type": "markdown",
   "id": "bdd86db3-dd2b-4f4c-9716-3d5fd88075d8",
   "metadata": {},
   "source": [
    "### train model"
   ]
  },
  {
   "cell_type": "code",
   "execution_count": 7,
   "id": "d6b4e8a7-8860-4726-8783-437e10072e3c",
   "metadata": {},
   "outputs": [],
   "source": [
    "ft_model_name = \"taxbot-SeaLLMs-v3-1.5B_v9-DPO-v2\"\n",
    "\n",
    "training_args = DPOConfig(\n",
    "    output_dir= f\"models/{ft_model_name}\", \n",
    "    logging_steps=25,\n",
    "    per_device_train_batch_size=2,\n",
    "    per_device_eval_batch_size=2,\n",
    "    gradient_accumulation_steps=4,\n",
    "    num_train_epochs=3,\n",
    "    load_best_model_at_end=True,\n",
    "    metric_for_best_model=\"eval_loss\",\n",
    "    save_strategy=\"epoch\",\n",
    "    eval_strategy=\"epoch\",\n",
    "    eval_steps=1,\n",
    "    bf16=False,\n",
    "    fp16=True,   \n",
    "    report_to='none'\n",
    ")"
   ]
  },
  {
   "cell_type": "code",
   "execution_count": null,
   "id": "87714294-1cdf-4f55-8040-c7aefbec55e7",
   "metadata": {},
   "outputs": [
    {
     "name": "stderr",
     "output_type": "stream",
     "text": [
      "/home/ubuntu/projek_chatbot_galang/venv/lib/python3.10/site-packages/peft/tuners/lora/bnb.py:348: UserWarning: Merge lora module to 4-bit linear may get different generations due to rounding errors.\n",
      "  warnings.warn(\n",
      "/home/ubuntu/projek_chatbot_galang/venv/lib/python3.10/site-packages/peft/tuners/tuners_utils.py:196: UserWarning: Already found a `peft_config` attribute in the model. This will lead to having multiple adapters in the model. Make sure to know what you are doing!\n",
      "  warnings.warn(\n",
      "The tokenizer has new PAD/BOS/EOS tokens that differ from the model config and generation config. The model config and generation config were aligned accordingly, being updated with the tokenizer's values. Updated tokens: {'eos_token_id': 151645, 'bos_token_id': None, 'pad_token_id': 151645}.\n",
      "The model is already on multiple devices. Skipping the move to device specified in `args`.\n"
     ]
    },
    {
     "data": {
      "text/html": [
       "\n",
       "    <div>\n",
       "      \n",
       "      <progress value='50' max='171' style='width:300px; height:20px; vertical-align: middle;'></progress>\n",
       "      [ 50/171 11:56 < 30:07, 0.07 it/s, Epoch 0.87/3]\n",
       "    </div>\n",
       "    <table border=\"1\" class=\"dataframe\">\n",
       "  <thead>\n",
       " <tr style=\"text-align: left;\">\n",
       "      <th>Epoch</th>\n",
       "      <th>Training Loss</th>\n",
       "      <th>Validation Loss</th>\n",
       "      <th>rewards / chosen</th>\n",
       "      <th>rewards / rejected</th>\n",
       "      <th>rewards / accuracies</th>\n",
       "      <th>rewards / margins</th>\n",
       "      <th>logps / chosen</th>\n",
       "      <th>logps / rejected</th>\n",
       "      <th>logits / chosen</th>\n",
       "      <th>logits / rejected</th>\n",
       "      <th>eval_logits / chosen</th>\n",
       "      <th>eval_logits / rejected</th>\n",
       "      <th>nll_loss</th>\n",
       "    </tr>\n",
       "  </thead>\n",
       "  <tbody>\n",
       "  </tbody>\n",
       "</table><p>"
      ],
      "text/plain": [
       "<IPython.core.display.HTML object>"
      ]
     },
     "metadata": {},
     "output_type": "display_data"
    }
   ],
   "source": [
    "trainer = DPOTrainer(\n",
    "    model=model, \n",
    "    args=training_args, \n",
    "    processing_class=tokenizer, \n",
    "    train_dataset=dataset['train'],\n",
    "    eval_dataset=dataset['valid'],\n",
    "    peft_config=peft_config\n",
    ")\n",
    "trainer.train()"
   ]
  },
  {
   "cell_type": "code",
   "execution_count": null,
   "id": "0e8590cc",
   "metadata": {},
   "outputs": [
    {
     "data": {
      "text/html": [
       "\n",
       "    <div>\n",
       "      \n",
       "      <progress value='25' max='25' style='width:300px; height:20px; vertical-align: middle;'></progress>\n",
       "      [25/25 00:39]\n",
       "    </div>\n",
       "    "
      ],
      "text/plain": [
       "<IPython.core.display.HTML object>"
      ]
     },
     "metadata": {},
     "output_type": "display_data"
    },
    {
     "data": {
      "text/plain": [
       "{'eval_loss': 0.4330650269985199,\n",
       " 'eval_runtime': 41.0536,\n",
       " 'eval_samples_per_second': 1.218,\n",
       " 'eval_steps_per_second': 0.609,\n",
       " 'eval_rewards/chosen': -0.0639238953590393,\n",
       " 'eval_rewards/rejected': -1.3103232383728027,\n",
       " 'eval_rewards/accuracies': 0.8399999737739563,\n",
       " 'eval_rewards/margins': 1.2463992834091187,\n",
       " 'eval_logps/chosen': -186.7700653076172,\n",
       " 'eval_logps/rejected': -206.8123016357422,\n",
       " 'eval_logits/chosen': -1.7953916788101196,\n",
       " 'eval_logits/rejected': -1.7955176830291748,\n",
       " 'epoch': 3.0}"
      ]
     },
     "execution_count": 13,
     "metadata": {},
     "output_type": "execute_result"
    }
   ],
   "source": [
    "trainer.evaluate()"
   ]
  },
  {
   "cell_type": "code",
   "execution_count": null,
   "id": "23c19030",
   "metadata": {},
   "outputs": [],
   "source": [
    "trainer.save_model()"
   ]
  },
  {
   "cell_type": "code",
   "execution_count": null,
   "id": "58519487",
   "metadata": {},
   "outputs": [
    {
     "data": {
      "text/plain": [
       "('./merged-taxbot-SeaLLMs-v3-1.5B_v9-DPO-v1/tokenizer_config.json',\n",
       " './merged-taxbot-SeaLLMs-v3-1.5B_v9-DPO-v1/special_tokens_map.json',\n",
       " './merged-taxbot-SeaLLMs-v3-1.5B_v9-DPO-v1/chat_template.jinja',\n",
       " './merged-taxbot-SeaLLMs-v3-1.5B_v9-DPO-v1/vocab.json',\n",
       " './merged-taxbot-SeaLLMs-v3-1.5B_v9-DPO-v1/merges.txt',\n",
       " './merged-taxbot-SeaLLMs-v3-1.5B_v9-DPO-v1/added_tokens.json',\n",
       " './merged-taxbot-SeaLLMs-v3-1.5B_v9-DPO-v1/tokenizer.json')"
      ]
     },
     "execution_count": 15,
     "metadata": {},
     "output_type": "execute_result"
    }
   ],
   "source": [
    "base = AutoModelForCausalLM.from_pretrained(model_name, dtype=\"float16\")\n",
    "lora = PeftModel.from_pretrained(base, ft_model_name)\n",
    "\n",
    "merged = lora.merge_and_unload()\n",
    "\n",
    "merged.save_pretrained(f\"./merged-{ft_model_name}\")\n",
    "tokenizer.save_pretrained(f\"./merged-{ft_model_name}\")"
   ]
  }
 ],
 "metadata": {
  "kernelspec": {
   "display_name": "venv",
   "language": "python",
   "name": "python3"
  },
  "language_info": {
   "codemirror_mode": {
    "name": "ipython",
    "version": 3
   },
   "file_extension": ".py",
   "mimetype": "text/x-python",
   "name": "python",
   "nbconvert_exporter": "python",
   "pygments_lexer": "ipython3",
   "version": "3.10.12"
  }
 },
 "nbformat": 4,
 "nbformat_minor": 5
}
